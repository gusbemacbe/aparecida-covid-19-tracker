{
 "cells": [
  {
   "cell_type": "markdown",
   "metadata": {},
   "source": [
    "# Translation"
   ]
  },
  {
   "cell_type": "code",
   "execution_count": 57,
   "metadata": {},
   "outputs": [],
   "source": [
    " %%sh\n",
    "\n",
    "pygettext -d base -o locales/base.pot src/main.py"
   ]
  },
  {
   "cell_type": "code",
   "execution_count": 59,
   "metadata": {},
   "outputs": [],
   "source": [
    "%%sh\n",
    "\n",
    "msgfmt -o locales/en/LC_MESSAGES/base.mo locales/en/LC_MESSAGES/base\n",
    "msgfmt -o locales/pt/LC_MESSAGES/base.mo locales/pt/LC_MESSAGES/base"
   ]
  },
  {
   "cell_type": "code",
   "execution_count": 3,
   "metadata": {},
   "outputs": [
    {
     "name": "stdout",
     "output_type": "stream",
     "text": [
      "Olá mundo\n",
      "Esta é uma variável traduzível\n"
     ]
    }
   ],
   "source": [
    "import gettext\n",
    "import os\n",
    "\n",
    "pt = os.environ['LANGUAGE']=\"pt\"\n",
    "\n",
    "if pt == 'pt':\n",
    "    loc = gettext.translation('base', 'locales', languages = ['pt'])\n",
    "else:\n",
    "    loc = gettext.translation('base', 'locales', languages = ['en'])\n",
    "\n",
    "loc.install()\n",
    "_ = loc.gettext\n",
    "ngettext = loc.ngettext\n",
    "\n",
    "def print_some_strings():\n",
    "    print(_(\"Hello world\"))\n",
    "    print(_(\"This is a translatable string\"))\n",
    "\n",
    "if __name__=='__main__':\n",
    "    print_some_strings()"
   ]
  },
  {
   "cell_type": "code",
   "execution_count": 4,
   "metadata": {},
   "outputs": [
    {
     "name": "stdout",
     "output_type": "stream",
     "text": [
      "Olá mundo\n"
     ]
    }
   ],
   "source": [
    "# Import gettext module\n",
    "import gettext\n",
    "\n",
    "# Set the local directory\n",
    "localedir = 'locales'\n",
    "\n",
    "# Set up your magic function\n",
    "translate = gettext.translation('base', localedir, fallback = True)\n",
    "_ = translate.gettext\n",
    "\n",
    "# Translate message\n",
    "print(_(\"Hello world\"))"
   ]
  }
 ],
 "metadata": {
  "kernelspec": {
   "display_name": "Python 3.9.2 64-bit",
   "name": "python392jvsc74a57bd0767d51c1340bd893661ea55ea3124f6de3c7a262a8b4abca0554b478b1e2ff90"
  },
  "language_info": {
   "codemirror_mode": {
    "name": "ipython",
    "version": 3
   },
   "file_extension": ".py",
   "mimetype": "text/x-python",
   "name": "python",
   "nbconvert_exporter": "python",
   "pygments_lexer": "ipython3",
   "version": "3.9.2"
  },
  "orig_nbformat": 2
 },
 "nbformat": 4,
 "nbformat_minor": 2
}